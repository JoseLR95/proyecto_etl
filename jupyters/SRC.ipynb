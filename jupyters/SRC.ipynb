{
 "cells": [
  {
   "cell_type": "code",
   "execution_count": null,
   "metadata": {},
   "outputs": [],
   "source": [
    "def convertir_fecha(dataframe):\n",
    "    for col in dataframe.filter(like=\"dt\", axis=1):\n",
    "        dataframe[col] = pd.to_datetime(dataframe[col]).dt.strftime('%Y-%m-%d')\n",
    "    return dataframe"
   ]
  },
  {
   "cell_type": "code",
   "execution_count": null,
   "metadata": {},
   "outputs": [],
   "source": [
    "def convertir_fechaeventos(dataframe):\n",
    "    for col in dataframe.filter(like=\"fecha\", axis=1):\n",
    "        dataframe[col] = pd.to_datetime(dataframe[col])\n",
    "    return dataframe"
   ]
  },
  {
   "cell_type": "code",
   "execution_count": null,
   "metadata": {},
   "outputs": [],
   "source": [
    "def scrapear_hoteles (url_base, dict):\n",
    "    if \"nombre_hotel\" not in dict:\n",
    "        dict[\"nombre_hotel\"] = []\n",
    "    if \"valoraciones\" not in dict:\n",
    "        dict[\"valoraciones\"] = []\n",
    "    if \"precio\" not in dict:\n",
    "        dict[\"precio\"] = []\n",
    "    if \"fecha\" not in dict:\n",
    "        dict[\"fecha\"] = []\n",
    "    service = Service(ChromeDriverManager().install())\n",
    "    options = Options()\n",
    "    options.add_argument(\"--start-maximized\")\n",
    "    driver = webdriver.Chrome(service=service, options=options)\n",
    "    driver.get(url_base)\n",
    "    cookie_button = driver.find_element(By.XPATH, \"//button[contains(text(), 'Accept')]\")\n",
    "    cookie_button2 = driver.find_element(By.XPATH, \"//button[contains(text(), 'A')]\")\n",
    "    try:\n",
    "        cookie_button.click()\n",
    "    except:\n",
    "        cookie_button2.click()\n",
    "    wait = WebDriverWait(driver, 10)\n",
    "    wait.until(EC.presence_of_all_elements_located((By.CSS_SELECTOR, \"span.booking-price__number.mcp-price-number\")))\n",
    "    info = driver.find_elements(By.CSS_SELECTOR, \".hotelblock__content\")\n",
    "    for item in info:\n",
    "        precio = item.find_element(By.CSS_SELECTOR, \"span.booking-price__number.mcp-price-number\").text\n",
    "        nombre = item.find_element(By.CSS_SELECTOR, \".title__link\").text\n",
    "        nombre_hotel1 = nombre\n",
    "        nombre_hotel1 = nombre_hotel1.split()\n",
    "        nombre_hotel = \" \".join(nombre_hotel1[:-2])\n",
    "        valoraciones = item.find_element(By.CSS_SELECTOR, \".ratings__score\").text\n",
    "        valoraciones1 = valoraciones.split(\"/\")[0]\n",
    "        fecha = datetime.now()\n",
    "        fecha = fecha.strftime(\"%Y-%m-%d\")\n",
    "        dict[\"nombre_hotel\"].append(nombre_hotel)\n",
    "        dict[\"valoraciones\"].append(valoraciones1)\n",
    "        dict[\"precio\"].append(precio)\n",
    "        dict[\"fecha\"].append(fecha)\n",
    "    driver.quit()\n",
    "    dfscrap = pd.DataFrame(dict)\n",
    "    dfscrap.to_csv(\"../datos/datos_webscrapping.csv\", index=False)\n",
    "    return dfscrap"
   ]
  },
  {
   "cell_type": "code",
   "execution_count": null,
   "metadata": {},
   "outputs": [],
   "source": [
    "# Extraer datos API\n",
    "def extraccion_api(url):\n",
    "    response = requests.get(url)\n",
    "    if response.status_code == 200:\n",
    "        data = response.json() # Convertir la respuesta a un diccionario de Python\n",
    "        print(data)\n",
    "    else:\n",
    "        print(f\"Error en la solicitud: {response.status_code}\")\n",
    "    eventos = data[\"@graph\"] # seleccionar datos del diccionario\n",
    "    lista_eventos = [] # Crear lista con todos los eventos\n",
    "    for evento in eventos:\n",
    "        lista_eventos.append(evento)\n",
    "    dfapi = pd.DataFrame(eventos)\n",
    "    dfapi.to_csv(\"../datos/datos_api.csv\", index=False)\n",
    "    # Crear DF con las columnas que nos interesan\n",
    "    dfapilimpio = dfapi[[\"id\", \"title\", \"link\", \"address\", \"time\", \"dtstart\", \"dtend\", \"organization\"]]\n",
    "    return dfapilimpio"
   ]
  },
  {
   "cell_type": "code",
   "execution_count": null,
   "metadata": {},
   "outputs": [],
   "source": [
    "def insertar_datos_automatico(df, tabla, cursor):\n",
    "    columnas = df.columns.tolist()  # Extraer nombres de columnas\n",
    "    columnas_str = \", \".join(columnas) # Poner comas para separar los nombres de las columnas\n",
    "    placeholders = \", \".join([\"%s\"] * len(columnas))  # Generar los %s en función del nº de columnas\n",
    "\n",
    "    # Generar la query automáticamente\n",
    "    insert_query = f\"\"\"\n",
    "        INSERT INTO {tabla} ({columnas_str})\n",
    "        VALUES ({placeholders})\n",
    "    \"\"\"\n",
    "\n",
    "    # Convertir los datos del DataFrame en una lista de listas\n",
    "    data_to_insert = df.values.tolist()\n",
    "\n",
    "    # Ejecutar la inserción\n",
    "    cursor.executemany(insert_query, data_to_insert)\n",
    "    conn.commit()"
   ]
  }
 ],
 "metadata": {
  "language_info": {
   "name": "python"
  }
 },
 "nbformat": 4,
 "nbformat_minor": 2
}
